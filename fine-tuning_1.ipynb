{
 "cells": [
  {
   "cell_type": "code",
   "execution_count": 37,
   "metadata": {},
   "outputs": [],
   "source": [
    "from openai import OpenAI\n",
    "import json\n",
    "client = OpenAI()"
   ]
  },
  {
   "cell_type": "markdown",
   "metadata": {},
   "source": [
    "Upload the training and validation file"
   ]
  },
  {
   "cell_type": "code",
   "execution_count": 2,
   "metadata": {},
   "outputs": [
    {
     "data": {
      "text/plain": [
       "FileObject(id='file-ScyLiRDbsRADrD5yYnEH1TIH', bytes=2933367, created_at=1713461900, filename='training_examples.jsonl', object='file', purpose='fine-tune', status='processed', status_details=None)"
      ]
     },
     "execution_count": 2,
     "metadata": {},
     "output_type": "execute_result"
    }
   ],
   "source": [
    "client.files.create(\n",
    "  file=open(\"data/training_examples.jsonl\", \"rb\"),\n",
    "  purpose=\"fine-tune\"\n",
    ")"
   ]
  },
  {
   "cell_type": "code",
   "execution_count": 3,
   "metadata": {},
   "outputs": [
    {
     "data": {
      "text/plain": [
       "FileObject(id='file-wPiN8afeyXCVrsKtqguiinLo', bytes=793405, created_at=1713461904, filename='validation.jsonl', object='file', purpose='fine-tune', status='processed', status_details=None)"
      ]
     },
     "execution_count": 3,
     "metadata": {},
     "output_type": "execute_result"
    }
   ],
   "source": [
    "client.files.create(\n",
    "  file=open(\"data/validation.jsonl\", \"rb\"),\n",
    "  purpose=\"fine-tune\"\n",
    ")"
   ]
  },
  {
   "cell_type": "code",
   "execution_count": 5,
   "metadata": {},
   "outputs": [
    {
     "data": {
      "text/plain": [
       "FineTuningJob(id='ftjob-5MD2SBEzsv7xZcBI47hmvhYe', created_at=1713461944, error=Error(code=None, message=None, param=None, error=None), fine_tuned_model=None, finished_at=None, hyperparameters=Hyperparameters(n_epochs='auto', batch_size='auto', learning_rate_multiplier='auto'), model='gpt-3.5-turbo-0125', object='fine_tuning.job', organization_id='org-HzgmxGLTS1k6jx5kb4K1RDPE', result_files=[], seed=1529875545, status='validating_files', trained_tokens=None, training_file='file-ScyLiRDbsRADrD5yYnEH1TIH', validation_file='file-wPiN8afeyXCVrsKtqguiinLo', integrations=[], user_provided_suffix=None)"
      ]
     },
     "execution_count": 5,
     "metadata": {},
     "output_type": "execute_result"
    }
   ],
   "source": [
    "\"\"\" client.fine_tuning.jobs.create(\n",
    "  training_file=\"file-ScyLiRDbsRADrD5yYnEH1TIH\",\n",
    "  validation_file=\"file-wPiN8afeyXCVrsKtqguiinLo\",\n",
    "  model=\"gpt-3.5-turbo\"\n",
    ") \"\"\""
   ]
  },
  {
   "cell_type": "code",
   "execution_count": 21,
   "metadata": {},
   "outputs": [],
   "source": [
    "# List 10 fine-tuning jobs\n",
    "jobs = client.fine_tuning.jobs.list(limit=10)"
   ]
  },
  {
   "cell_type": "code",
   "execution_count": 22,
   "metadata": {},
   "outputs": [
    {
     "name": "stdout",
     "output_type": "stream",
     "text": [
      "Job ID: ftjob-5MD2SBEzsv7xZcBI47hmvhYe\n",
      "Model: gpt-3.5-turbo-0125\n",
      "Fine-Tuned Model: ft:gpt-3.5-turbo-0125:personal::9FR6HhPm\n",
      "Status: succeeded\n",
      "Created At: 1713461944\n",
      "Finished At: 1713466120\n",
      "Trained Tokens: 1458567\n",
      "Error Message: No error\n",
      "Training File: file-ScyLiRDbsRADrD5yYnEH1TIH\n",
      "Validation File: file-wPiN8afeyXCVrsKtqguiinLo\n",
      "Result Files: ['file-yhFb55sMYfMMMzzW0f2djkXD']\n",
      "Hyperparameters: {'n_epochs': 3}\n",
      "----------------------------------------\n",
      "Job ID: ftjob-IezDF9XKsGU67cAvy4kIEg6N\n",
      "Model: gpt-3.5-turbo-0125\n",
      "Fine-Tuned Model: ft:gpt-3.5-turbo-0125:personal::8xou7HV2\n",
      "Status: succeeded\n",
      "Created At: 1709264327\n",
      "Finished At: 1709267718\n",
      "Trained Tokens: 70329\n",
      "Error Message: No error\n",
      "Training File: file-yjr0iziZqYWZ0RQRnT82i1zy\n",
      "Validation File: None\n",
      "Result Files: ['file-4i5Fb6UJrBBzSBlIyoUPaWA2']\n",
      "Hyperparameters: {'n_epochs': 3}\n",
      "----------------------------------------\n",
      "Job ID: ftjob-cdjtCSRVA1XewcEF5dNw3AMk\n",
      "Model: gpt-3.5-turbo-0613\n",
      "Fine-Tuned Model: ft:gpt-3.5-turbo-0613:personal::8RoHogRu\n",
      "Status: succeeded\n",
      "Created At: 1701638443\n",
      "Finished At: 1701638848\n",
      "Trained Tokens: 31014\n",
      "Error Message: No error\n",
      "Training File: file-PwqRr97KhgP74WLDQnqwpPoM\n",
      "Validation File: file-1CEdzpUBIGiosGm1cr4lQS6K\n",
      "Result Files: ['file-5zK6ikFfpCxnkgsL8cX6EpsQ']\n",
      "Hyperparameters: {'n_epochs': 6}\n",
      "----------------------------------------\n",
      "Job ID: ftjob-QpSIvqZgBYdIxr9s0B1nqNVJ\n",
      "Model: gpt-3.5-turbo-0613\n",
      "Fine-Tuned Model: ft:gpt-3.5-turbo-0613:personal::8RmuSjGY\n",
      "Status: succeeded\n",
      "Created At: 1701633194\n",
      "Finished At: 1701633555\n",
      "Trained Tokens: 31014\n",
      "Error Message: No error\n",
      "Training File: file-PwqRr97KhgP74WLDQnqwpPoM\n",
      "Validation File: None\n",
      "Result Files: ['file-dla3Sa2iDzZ8OSfaBY6PKDme']\n",
      "Hyperparameters: {'n_epochs': 6}\n",
      "----------------------------------------\n",
      "Job ID: ftjob-eb6nwUTIbYJp2GrRGK0bDi7u\n",
      "Model: gpt-3.5-turbo-0613\n",
      "Fine-Tuned Model: None\n",
      "Status: failed\n",
      "Created At: 1701633117\n",
      "Finished At: None\n",
      "Trained Tokens: None\n",
      "Error Message: The job failed due to an invalid training file. Invalid file format. Example 16 is not a valid JSON object.\n",
      "Training File: file-UopYo5SN5JCn6O5pz3I7tDXh\n",
      "Validation File: None\n",
      "Result Files: []\n",
      "Hyperparameters: {'n_epochs': 'auto'}\n",
      "----------------------------------------\n",
      "Job ID: ftjob-s5blpV4pMZ7rLFMLjG6eWKWb\n",
      "Model: gpt-3.5-turbo-0613\n",
      "Fine-Tuned Model: None\n",
      "Status: failed\n",
      "Created At: 1701587741\n",
      "Finished At: None\n",
      "Trained Tokens: None\n",
      "Error Message: The job failed due to an invalid training file. Invalid file format. Example 16 is not a valid JSON object.\n",
      "Training File: file-UopYo5SN5JCn6O5pz3I7tDXh\n",
      "Validation File: None\n",
      "Result Files: []\n",
      "Hyperparameters: {'n_epochs': 'auto'}\n",
      "----------------------------------------\n"
     ]
    }
   ],
   "source": [
    "def print_job_details(jobs):\n",
    "    for job in jobs.data:\n",
    "        print(\"Job ID:\", job.id)\n",
    "        print(\"Model:\", job.model)\n",
    "        print(\"Fine-Tuned Model:\", getattr(job, 'fine_tuned_model', 'N/A'))\n",
    "        print(\"Status:\", job.status)\n",
    "        print(\"Created At:\", job.created_at)\n",
    "        print(\"Finished At:\", getattr(job, 'finished_at', 'N/A'))\n",
    "        print(\"Trained Tokens:\", getattr(job, 'trained_tokens', 'N/A'))\n",
    "        print(\"Error Message:\", job.error.message if job.error and job.error.message else \"No error\")\n",
    "        print(\"Training File:\", job.training_file)\n",
    "        print(\"Validation File:\", getattr(job, 'validation_file', 'N/A'))\n",
    "        print(\"Result Files:\", job.result_files)\n",
    "        print(\"Hyperparameters:\", {key: getattr(job.hyperparameters, key) for key in job.hyperparameters.__annotations__})\n",
    "        print(\"-\" * 40)\n",
    "\n",
    "# Print the formatted job details\n",
    "print_job_details(jobs)"
   ]
  },
  {
   "cell_type": "code",
   "execution_count": 24,
   "metadata": {},
   "outputs": [],
   "source": [
    "\n",
    "# Retrieve the state of a fine-tune\n",
    "fine_tune_state = client.fine_tuning.jobs.retrieve(\"ftjob-5MD2SBEzsv7xZcBI47hmvhYe\")"
   ]
  },
  {
   "cell_type": "code",
   "execution_count": 27,
   "metadata": {},
   "outputs": [
    {
     "name": "stdout",
     "output_type": "stream",
     "text": [
      "Job ID: ftjob-5MD2SBEzsv7xZcBI47hmvhYe\n",
      "Model: gpt-3.5-turbo-0125\n",
      "Fine-Tuned Model: ft:gpt-3.5-turbo-0125:personal::9FR6HhPm\n",
      "Status: succeeded\n",
      "Created At: 1713461944\n",
      "Finished At: 1713466120\n",
      "Trained Tokens: 1458567\n",
      "Training File: file-ScyLiRDbsRADrD5yYnEH1TIH\n",
      "Validation File: file-wPiN8afeyXCVrsKtqguiinLo\n",
      "Result Files: ['file-yhFb55sMYfMMMzzW0f2djkXD']\n",
      "Hyperparameters: Hyperparameters(n_epochs=3, batch_size=2, learning_rate_multiplier=2)\n",
      "----------------------------------------\n"
     ]
    }
   ],
   "source": [
    "# Function to print the state of a fine-tune\n",
    "def print_job_details(fine_tune_state ):\n",
    "    print(\"Job ID:\", fine_tune_state .id)\n",
    "    print(\"Model:\", fine_tune_state .model)\n",
    "    print(\"Fine-Tuned Model:\", fine_tune_state .fine_tuned_model)\n",
    "    print(\"Status:\", fine_tune_state .status)\n",
    "    print(\"Created At:\", fine_tune_state .created_at)\n",
    "    print(\"Finished At:\", fine_tune_state .finished_at)\n",
    "    print(\"Trained Tokens:\", fine_tune_state .trained_tokens)\n",
    "    #print(\"Error Message:\", fine_tune_state .error['message'] if fine_tune_state .error['message'] else \"No error\")\n",
    "    print(\"Training File:\", fine_tune_state .training_file)\n",
    "    print(\"Validation File:\", fine_tune_state .validation_file)\n",
    "    print(\"Result Files:\", fine_tune_state .result_files)\n",
    "    print(\"Hyperparameters:\", fine_tune_state .hyperparameters)\n",
    "    print(\"-\" * 40)\n",
    "\n",
    "# Print the formatted state of a fine-tune\n",
    "print_job_details(fine_tune_state )"
   ]
  },
  {
   "cell_type": "code",
   "execution_count": 36,
   "metadata": {},
   "outputs": [
    {
     "name": "stdout",
     "output_type": "stream",
     "text": [
      "Object Type: list\n",
      "Has More Events: False\n",
      "----------------------------------------\n",
      "Event ID: ftevent-I9dMgDtiJIrLA4TtvEiqErnL\n",
      "Created At: 1713466125\n",
      "Level: info\n",
      "Message: The job has successfully completed\n",
      "----------------------------------------\n",
      "Event ID: ftevent-lX9SgVjxHiteNr1FGv5wzNet\n",
      "Created At: 1713466122\n",
      "Level: info\n",
      "Message: New fine-tuned model created: ft:gpt-3.5-turbo-0125:personal::9FR6HhPm\n",
      "----------------------------------------\n",
      "Event ID: ftevent-CBSqlUcKD31PnO20NjCqRkXu\n",
      "Created At: 1713466122\n",
      "Level: info\n",
      "Message: Checkpoint created at step 1110 with Snapshot ID: ft:gpt-3.5-turbo-0125:personal::9FR6HTsJ:ckpt-step-1110\n",
      "----------------------------------------\n",
      "Event ID: ftevent-esamAgfr0dMJrkVtiQelGCkk\n",
      "Created At: 1713466122\n",
      "Level: info\n",
      "Message: Checkpoint created at step 555 with Snapshot ID: ft:gpt-3.5-turbo-0125:personal::9FR6HUC4:ckpt-step-555\n",
      "----------------------------------------\n",
      "Event ID: ftevent-nIkX6hjlp6UU3cWnYWLb62NK\n",
      "Created At: 1713466117\n",
      "Level: info\n",
      "Message: Step 1665/1665: training loss=0.30, full validation loss=0.88\n",
      "Additional Data:\n",
      "  step: 1665\n",
      "  train_loss: 0.3028560280799866\n",
      "  total_steps: 1665\n",
      "  full_valid_loss: 0.8756469761440784\n",
      "  train_mean_token_accuracy: 0.8903225660324097\n",
      "  full_valid_mean_token_accuracy: 0.780301701455885\n",
      "----------------------------------------\n",
      "Event ID: ftevent-u3qCBrXJgaN1IAhsl6YjO4Ld\n",
      "Created At: 1713466107\n",
      "Level: info\n",
      "Message: Step 1664/1665: training loss=0.30\n",
      "Additional Data:\n",
      "  step: 1664\n",
      "  train_loss: 0.2971862554550171\n",
      "  total_steps: 1665\n",
      "  train_mean_token_accuracy: 0.9012345671653748\n",
      "----------------------------------------\n",
      "Event ID: ftevent-NJx710TdLNAvD4Fqcn0FMZkj\n",
      "Created At: 1713466104\n",
      "Level: info\n",
      "Message: Step 1663/1665: training loss=0.10\n",
      "Additional Data:\n",
      "  step: 1663\n",
      "  train_loss: 0.10464418679475784\n",
      "  total_steps: 1665\n",
      "  train_mean_token_accuracy: 0.9583333134651184\n",
      "----------------------------------------\n",
      "Event ID: ftevent-3UUeA5dVgcCNFvwrb88gTHFn\n",
      "Created At: 1713466102\n",
      "Level: info\n",
      "Message: Step 1662/1665: training loss=0.17\n",
      "Additional Data:\n",
      "  step: 1662\n",
      "  train_loss: 0.17384639382362366\n",
      "  total_steps: 1665\n",
      "  train_mean_token_accuracy: 0.9261083602905273\n",
      "----------------------------------------\n",
      "Event ID: ftevent-QHI2jIeyvwAnmltblhFQuE1k\n",
      "Created At: 1713466099\n",
      "Level: info\n",
      "Message: Step 1661/1665: training loss=0.24\n",
      "Additional Data:\n",
      "  step: 1661\n",
      "  train_loss: 0.2391553521156311\n",
      "  total_steps: 1665\n",
      "  train_mean_token_accuracy: 0.9013453125953674\n",
      "----------------------------------------\n",
      "Event ID: ftevent-vsDkfIn6Unemnf4LoL7aCXJk\n",
      "Created At: 1713466097\n",
      "Level: info\n",
      "Message: Step 1660/1665: training loss=0.23\n",
      "Additional Data:\n",
      "  step: 1660\n",
      "  train_loss: 0.23087406158447266\n",
      "  total_steps: 1665\n",
      "  train_mean_token_accuracy: 0.9119373559951782\n",
      "----------------------------------------\n"
     ]
    }
   ],
   "source": [
    "# Define the FineTuningJobEvent class\n",
    "class FineTuningJobEvent:\n",
    "    def __init__(self, id, created_at, level, message, object, data, type):\n",
    "        self.id = id\n",
    "        self.created_at = created_at\n",
    "        self.level = level\n",
    "        self.message = message\n",
    "        self.object = object\n",
    "        self.data = data\n",
    "        self.type = type\n",
    "\n",
    "# Define the SyncCursorPage class\n",
    "class SyncCursorPage:\n",
    "    def __init__(self, data, object, has_more):\n",
    "        self.data = data\n",
    "        self.object = object\n",
    "        self.has_more = has_more\n",
    "\n",
    "# Function to print job event details\n",
    "def print_job_event_details(events_page):\n",
    "    print(\"Object Type:\", events_page.object)\n",
    "    print(\"Has More Events:\", events_page.has_more)\n",
    "    print(\"-\" * 40)\n",
    "    for event in events_page.data:\n",
    "        print(\"Event ID:\", event.id)\n",
    "        print(\"Created At:\", event.created_at)\n",
    "        print(\"Level:\", event.level)\n",
    "        print(\"Message:\", event.message)\n",
    "        if event.data:\n",
    "            print(\"Additional Data:\")\n",
    "            for key, value in event.data.items():\n",
    "                print(f\"  {key}: {value}\")\n",
    "        print(\"-\" * 40)\n",
    "\n",
    "# Fetch up to 10 events from a fine-tuning job\n",
    "events_page = client.fine_tuning.jobs.list_events(fine_tuning_job_id=\"ftjob-5MD2SBEzsv7xZcBI47hmvhYe\", limit=10)\n",
    "\n",
    "# Convert the data to FineTuningJobEvent objects (replace this with actual data conversion)\n",
    "events = []\n",
    "for event_data in events_page.data:\n",
    "    event = FineTuningJobEvent(\n",
    "        id=event_data.id,\n",
    "        created_at=event_data.created_at,\n",
    "        level=event_data.level,\n",
    "        message=event_data.message,\n",
    "        object=event_data.object,\n",
    "        data=event_data.data,\n",
    "        type=event_data.type\n",
    "    )\n",
    "    events.append(event)\n",
    "\n",
    "# Create a SyncCursorPage object (replace this with the actual object received from the API)\n",
    "events_page = SyncCursorPage(events, 'list', has_more=False)\n",
    "\n",
    "# Print the formatted job event details\n",
    "print_job_event_details(events_page)"
   ]
  },
  {
   "cell_type": "code",
   "execution_count": null,
   "metadata": {},
   "outputs": [],
   "source": [
    "\"\"\" \n",
    "# Cancel a job\n",
    "client.fine_tuning.jobs.cancel(\"ftjob-abc123\") \"\"\"\n",
    "\n",
    "\n",
    "\"\"\" # Delete a fine-tuned model (must be an owner of the org the model was created in)\n",
    "client.models.delete(\"ft:gpt-3.5-turbo:acemeco:suffix:abc123\") \"\"\""
   ]
  },
  {
   "cell_type": "code",
   "execution_count": null,
   "metadata": {},
   "outputs": [],
   "source": [
    "\"\"\" curl -X POST \\\\\n",
    "    -H \"Content-Type: application/json\" \\\\\n",
    "    -H \"Authorization: Bearer $OPENAI_API_KEY\" \\\\\n",
    "    -d '{\n",
    "    \"model\": \"gpt-3.5-turbo-0125\",\n",
    "    \"training_file\": \"file-ScyLiRDbsRADrD5yYnEH1TIH\",\n",
    "    \"validation_file\": \"file-wPiN8afeyXCVrsKtqguiinLo\",\n",
    "    \"integrations\": [\n",
    "        {\n",
    "            \"type\": \"wandb\",\n",
    "            \"wandb\": {\n",
    "                \"project\": \"patent-novelty\",\n",
    "                \"tags\": [\"project:tag\", \"lineage\"]\n",
    "            }\n",
    "        }\n",
    "    ]\n",
    "}' https://api.openai.com/v1/fine_tuning/jobs \"\"\""
   ]
  },
  {
   "cell_type": "code",
   "execution_count": null,
   "metadata": {},
   "outputs": [],
   "source": [
    "https://wandb.ai/<WANDB-ENTITY>/patent-novelty/runs/ftjob-fb2AtaV0eUh15MAb0bMqUzgr"
   ]
  }
 ],
 "metadata": {
  "kernelspec": {
   "display_name": "openai-env",
   "language": "python",
   "name": "python3"
  },
  "language_info": {
   "codemirror_mode": {
    "name": "ipython",
    "version": 3
   },
   "file_extension": ".py",
   "mimetype": "text/x-python",
   "name": "python",
   "nbconvert_exporter": "python",
   "pygments_lexer": "ipython3",
   "version": "3.11.7"
  }
 },
 "nbformat": 4,
 "nbformat_minor": 2
}
