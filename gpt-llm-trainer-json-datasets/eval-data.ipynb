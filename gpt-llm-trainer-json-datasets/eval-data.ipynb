{
 "cells": [
  {
   "cell_type": "code",
   "execution_count": null,
   "metadata": {},
   "outputs": [],
   "source": [
    "eval_data = []\n",
    "input_prompt = \"TASK: Given an existing prior art patent and a new patent application, both consisting of a title, abstract, summary, and patent claims, assess the novelty of the new patent by comparing their technical specifications. Ensure they pertain to the same domain. If they don't, indicate this and avoid novelty evaluation. Identify key similarities, highlight principal points of comparison, detail the differences, and assess if the new patent introduces novel elements. If too similar, explain why the patent should not be granted. Conclude with a definitive answer on whether the patent application merits approval.\"\n",
    "\n",
    "for choice in completion.choices:\n",
    "    question = choice.message.content.split(\"Q: \")[1].split(\"\\n\")[0]  # Extracting the question\n",
    "    answer = choice.message.content.split(\"\\nA: \")[1].split(\"\\n\")[0]  # Extracting the answer\n",
    "    eval_data.append({\n",
    "        \"input\": [\n",
    "            {\"role\": \"system\", \"content\": input_prompt},\n",
    "            {\"role\": \"user\", \"content\": question},\n",
    "        ],\n",
    "        \"ideal\": answer\n",
    "    })\n",
    "\n",
    "for item in eval_data:\n",
    "    print(item)"
   ]
  }
 ],
 "metadata": {
  "language_info": {
   "name": "python"
  }
 },
 "nbformat": 4,
 "nbformat_minor": 2
}
