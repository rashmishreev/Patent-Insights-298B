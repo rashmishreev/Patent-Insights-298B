{
  "cells": [
    {
      "cell_type": "markdown",
      "metadata": {
        "id": "wM8MRkf8Dr94"
      },
      "source": [
        "## Describe your model -> fine-tuned GPT-3.5\n",
        "By Matt Shumer (https://twitter.com/mattshumer_)\n",
        "\n",
        "The goal of this notebook is to experiment with a new way to make it very easy to build a task-specific model for your use-case.\n",
        "\n",
        "First, use the best GPU available (go to Runtime -> change runtime type)\n",
        "\n",
        "To create your model, just go to the first code cell, and describe the model you want to build in the prompt. Be descriptive and clear.\n",
        "\n",
        "Select a temperature (high=creative, low=precise), and the number of training examples to generate to train the model. From there, just run all the cells.\n",
        "\n",
        "You can change the model you want to fine-tune by changing `model_name` in the `Define Hyperparameters` cell."
      ]
    },
    {
      "cell_type": "markdown",
      "metadata": {
        "id": "Way3_PuPpIuE"
      },
      "source": [
        "#Data generation step"
      ]
    },
    {
      "cell_type": "markdown",
      "metadata": {
        "id": "lY-3DvlIpVSl"
      },
      "source": [
        "Write your prompt here. Make it as descriptive as possible!\n",
        "\n",
        "Then, choose the temperature (between 0 and 1) to use when generating data. Lower values are great for precise tasks, like writing code, whereas larger values are better for creative tasks, like writing stories.\n",
        "\n",
        "Finally, choose how many examples you want to generate. The more you generate, a) the longer it takes and b) the more expensive data generation will be. But generally, more examples will lead to a higher-quality model. 100 is usually the minimum to start."
      ]
    },
    {
      "cell_type": "code",
      "execution_count": 1,
      "metadata": {
        "id": "R7WKZyxtpUPS"
      },
      "outputs": [],
      "source": [
        "prompt = '''A model that takes a existing prior art patent and a new patent application as input and both the patents consists of a title, abstract (about 150 words) , summary (about  500 words) and patemt claims (average 700 words) to assess the novelty of the patents by comparing their technical specifications, ensuring both pertain to the same domain. If they originate from different domains, identify this and avoid novelty evaluation. Limits the analysis to a comparison between one patent and one prior art. Should there be more, indicate: \"\"Currently, I can only analyze the novelty between one patent and one piece of prior art. Future updates may expand this capability. Please submit one patent and one prior art for evaluation.\n",
        "\n",
        "Upon verifying domain consistency, proceed to:\n",
        "\n",
        "Identify and summarize the key similarities between the prior art and the patent application.\n",
        "Highlight the principal points of comparison.\n",
        "Use bullet points to detail the differences, unique features, and distinctions between the two, focusing on what sets the patent application apart.\n",
        "Assess if the patent application introduces novel elements and satisfies the patentability criteria within its field when compared to the prior art.\n",
        "If the concepts are too similar or if there's evidence of plagiarism, explain why the patent should not be granted and the risk of rejection.\n",
        "Conclude with a definitive yes or no on whether the patent application merits approval.\n",
        "'''\n",
        "\n",
        "temperature = .7\n",
        "number_of_examples = 5"
      ]
    },
    {
      "cell_type": "markdown",
      "metadata": {
        "id": "1snNou5PrIci"
      },
      "source": [
        "Run this to generate the dataset."
      ]
    },
    {
      "cell_type": "code",
      "execution_count": 4,
      "metadata": {
        "colab": {
          "base_uri": "https://localhost:8080/"
        },
        "id": "zuL2UaqlsmBD",
        "outputId": "a5719c2a-d508-4184-f969-6604103ac3d3"
      },
      "outputs": [
        {
          "name": "stdout",
          "output_type": "stream",
          "text": [
            "Defaulting to user installation because normal site-packages is not writeable\n",
            "Collecting openai==0.28\n",
            "  Downloading openai-0.28.0-py3-none-any.whl.metadata (13 kB)\n",
            "Requirement already satisfied: tenacity in /Users/spartan/Library/Python/3.9/lib/python/site-packages (8.2.3)\n",
            "Requirement already satisfied: requests>=2.20 in /Users/spartan/Library/Python/3.9/lib/python/site-packages (from openai==0.28) (2.31.0)\n",
            "Requirement already satisfied: tqdm in /Users/spartan/Library/Python/3.9/lib/python/site-packages (from openai==0.28) (4.66.2)\n",
            "Requirement already satisfied: aiohttp in /Users/spartan/Library/Python/3.9/lib/python/site-packages (from openai==0.28) (3.9.3)\n",
            "Requirement already satisfied: charset-normalizer<4,>=2 in /Users/spartan/Library/Python/3.9/lib/python/site-packages (from requests>=2.20->openai==0.28) (3.3.2)\n",
            "Requirement already satisfied: idna<4,>=2.5 in /Users/spartan/Library/Python/3.9/lib/python/site-packages (from requests>=2.20->openai==0.28) (3.6)\n",
            "Requirement already satisfied: urllib3<3,>=1.21.1 in /Users/spartan/Library/Python/3.9/lib/python/site-packages (from requests>=2.20->openai==0.28) (2.2.1)\n",
            "Requirement already satisfied: certifi>=2017.4.17 in /Users/spartan/Library/Python/3.9/lib/python/site-packages (from requests>=2.20->openai==0.28) (2024.2.2)\n",
            "Requirement already satisfied: aiosignal>=1.1.2 in /Users/spartan/Library/Python/3.9/lib/python/site-packages (from aiohttp->openai==0.28) (1.3.1)\n",
            "Requirement already satisfied: attrs>=17.3.0 in /Users/spartan/Library/Python/3.9/lib/python/site-packages (from aiohttp->openai==0.28) (23.2.0)\n",
            "Requirement already satisfied: frozenlist>=1.1.1 in /Users/spartan/Library/Python/3.9/lib/python/site-packages (from aiohttp->openai==0.28) (1.4.1)\n",
            "Requirement already satisfied: multidict<7.0,>=4.5 in /Users/spartan/Library/Python/3.9/lib/python/site-packages (from aiohttp->openai==0.28) (6.0.5)\n",
            "Requirement already satisfied: yarl<2.0,>=1.0 in /Users/spartan/Library/Python/3.9/lib/python/site-packages (from aiohttp->openai==0.28) (1.9.4)\n",
            "Requirement already satisfied: async-timeout<5.0,>=4.0 in /Users/spartan/Library/Python/3.9/lib/python/site-packages (from aiohttp->openai==0.28) (4.0.3)\n",
            "Downloading openai-0.28.0-py3-none-any.whl (76 kB)\n",
            "\u001b[2K   \u001b[90m━━━━━━━━━━━━━━━━━━━━━━━━━━━━━━━━━━━━━━━━\u001b[0m \u001b[32m76.5/76.5 kB\u001b[0m \u001b[31m4.1 MB/s\u001b[0m eta \u001b[36m0:00:00\u001b[0m\n",
            "\u001b[?25hInstalling collected packages: openai\n",
            "Successfully installed openai-0.28.0\n"
          ]
        }
      ],
      "source": [
        "!pip install openai==0.28 tenacity"
      ]
    },
    {
      "cell_type": "code",
      "execution_count": 3,
      "metadata": {
        "colab": {
          "base_uri": "https://localhost:8080/"
        },
        "id": "Rdsd82ngpHCG",
        "outputId": "871fc209-a4d4-42f8-9023-ea423a638d82"
      },
      "outputs": [
        {
          "name": "stdout",
          "output_type": "stream",
          "text": [
            "Generating example 0\n",
            "Generating example 1\n",
            "Generating example 2\n",
            "Generating example 3\n",
            "Generating example 4\n",
            "['prompt\\n-----------\\nPrior Art Title: \"Digital Image Processing System\"\\nPrior Art Abstract: A digital image processing system that uses a processing unit to manipulate digital images. It includes an image capture device, memory to store the images, a processor to modify the images, and an output device to display the modified images.\\n\\nNew Patent Title: \"Enhanced Digital Image Processing System\"\\nNew Patent Abstract: An enhanced digital image processing system comprising an imaging unit to capture digital images, a storage unit to keep the images, a processing unit that employs advanced algorithms to alter the images, and a presentation unit to show the edited images.\\n\\nPlease assess the novelty of the new patent application.\\n\\nresponse\\n-----------\\nThe new patent and the prior art share the domain of digital image processing systems. Here\\'s the analysis:\\n\\nPrincipal Points of Comparison:\\n1. Both systems include an image capture device, memory to store images, a processing unit to modify images, and an output device.\\n2. Both systems perform the function of capturing, storing, processing, and displaying images.\\n\\nKey Similarities:\\n1. The primary system components and functionalities are identical in both.\\n\\nDifferences and Unique Features:\\n1. The new patent application mentions the use of \\'advanced algorithms\\' for image modification, which is not specified in the prior art. \\n\\nHowever, without further specification about what these \\'advanced algorithms\\' entail and how they contribute to a significant improvement over the existing system, it\\'s hard to establish substantial novelty. As such, the new patent application risks rejection due to lack of distinctiveness and innovation relative to the prior art. Therefore, the new patent application might not merit approval.', 'prompt\\n-----------\\nPrior Art Title: \"Solar Powered Charging Station\"\\nPrior Art Abstract: A solar-powered charging station that includes solar panels to capture sunlight, convert it into electricity, and use it to charge electric devices. The system includes a battery for storing the generated electricity and a control unit to manage the charging process.\\n\\nNew Patent Title: \"Solar Powered Charging Station with Energy Management System\"\\nNew Patent Abstract: A solar-powered charging station equipped with photovoltaic panels to harness solar energy, convert it to electrical energy, and employ it to power electronic devices. The system incorporates an energy storage unit and an intelligent energy management system that optimizes energy use based on device needs and sunlight availability.\\n\\nPlease assess the novelty of the new patent application.\\n\\nresponse\\n-----------\\nBoth the prior art and the new patent application discuss a solar-powered charging station. Here\\'s the analysis:\\n\\nPrincipal Points of Comparison:\\n1. Both systems include solar panels, an energy storage unit, and a control unit.\\n2. Both systems capture sunlight, convert it into electricity, store it, and use it to charge electric devices.\\n\\nKey Similarities:\\n1. The main components of the systems are identical in both.\\n2. The basic functionality of capturing solar energy and using it to charge devices is the same in both.\\n\\nDifferences and Unique Features:\\n1. The new patent application introduces an \\'intelligent energy management system\\' that optimizes energy use based on device needs and sunlight availability.\\n\\nThe addition of the intelligent energy management system in the new patent application introduces a novel element that could significantly enhance the efficiency and effectiveness of the solar-powered charging station. This feature could differentiate the new patent application from the prior art and possibly satisfy the patentability criteria within its field. Therefore, the new patent application might merit approval.', 'prompt\\n-----------\\nPrior Art Title: \"Automated Vacuum Cleaning Device\"\\nPrior Art Abstract: An automated vacuum cleaning device, including a vacuum unit, a power source, and a control system. The control system directs the device to clean a given area autonomously.\\n\\nNew Patent Title: \"Automated Vacuum Cleaning Device with Dynamic Path Planning\"\\nNew Patent Abstract: An automated vacuum cleaning device consisting of a vacuum unit, an energy source, and a sophisticated control system. The control system employs advanced dynamic path planning techniques to autonomously navigate and clean a specified area, adapting its path based on real-time object detection.\\n\\nPlease assess the novelty of the new patent application.\\n\\nresponse\\n-----------\\nBoth the prior art and the new patent application focus on automated vacuum cleaning devices. Here\\'s the analysis:\\n\\nPrincipal Points of Comparison:\\n1. Both devices include a vacuum unit, a power source, and a control system.\\n2. Both devices can autonomously clean a given area.\\n\\nKey Similarities:\\n1. The main components of the devices are identical in both.\\n2. The basic functionality of autonomous cleaning is the same in both.\\n\\nDifferences and Unique Features:\\n1. The new patent application introduces \\'advanced dynamic path planning techniques\\' and \\'real-time object detection\\' as part of its control system.\\n\\nThe addition of dynamic path planning and real-time object detection in the new patent application presents novel elements that can enhance the efficiency and effectiveness of the automated vacuum cleaning device. These features can differentiate the new patent application from the prior art and could potentially satisfy the patentability criteria within its field. Therefore, the new patent application might merit approval.\\n', 'prompt\\n-----------\\nPrior Art Title: \"Biometric Identification System\"\\nPrior Art Abstract: A biometric identification system that includes a scanning device to capture biometric data, a storage device to save the data, and a processor to match the scanned data with the stored data for identification.\\n\\nNew Patent Title: \"Biometric Identification System with Machine Learning\"\\nNew Patent Abstract: A biometric identification system comprising a sensor to record biometric information, a memory module to store the data, and a processing unit. The processing unit employs machine learning algorithms to match the recorded information with the stored data, enhancing identification accuracy.\\n\\nPlease assess the novelty of the new patent application.\\n\\nresponse\\n-----------\\nBoth the prior art and the new patent application deal with biometric identification systems. Here\\'s the analysis:\\n\\nPrincipal Points of Comparison:\\n1. Both systems include a device to capture biometric data, a storage device, and a processing unit.\\n2. Both systems perform the function of capturing biometric data, storing it, and using it for identification.\\n\\nKey Similarities:\\n1. The main components and functionalities are the same in both.\\n\\nDifferences and Unique Features:\\n1. The new patent application introduces the use of \\'machine learning algorithms\\' to enhance identification accuracy.\\n\\nThe introduction of machine learning algorithms in the new patent application introduces a novel element that could significantly improve the accuracy of the biometric identification system. This feature could differentiate the new patent application from the prior art and possibly satisfy the patentability criteria within its field. Therefore, the new patent application might merit approval.', 'prompt\\n-----------\\nPrior Art Title: \"Wireless Sensor Network\"\\nPrior Art Abstract: A wireless sensor network that comprises multiple sensor nodes distributed over a geographical area. These nodes collect data, which is then transmitted to a central server for analysis.\\n\\nNew Patent Title: \"Self-Organizing Wireless Sensor Network\"\\nNew Patent Abstract: A self-organizing wireless sensor network that includes a multitude of sensor nodes spread across a geographical region. These nodes gather data and autonomously form an optimal data transmission path to a central server for analysis, improving network efficiency.\\n\\nPlease assess the novelty of the new patent application.\\n\\nresponse\\n-----------\\nBoth the prior art and the new patent application relate to wireless sensor networks. Here\\'s the analysis:\\n\\nPrincipal Points of Comparison:\\n1. Both networks consist of multiple sensor nodes distributed over a geographical area that collect data and transmit it to a central server.\\n2. Both networks perform the function of data collection and transmission.\\n\\nKey Similarities:\\n1. The main system components and functionalities are identical in both.\\n\\nDifferences and Unique Features:\\n1. The new patent application introduces \\'autonomous formation of an optimal data transmission path\\' which could improve network efficiency.\\n\\nThe introduction of a self-organizing feature that allows autonomous formation of an optimal data transmission path in the new patent application introduces a novel element that could significantly enhance the efficiency of the wireless sensor network. This feature could differentiate the new patent application from the prior art and possibly satisfy the patentability criteria within its field. Therefore, the new patent application might merit approval.']\n"
          ]
        }
      ],
      "source": [
        "import os\n",
        "import openai\n",
        "import random\n",
        "from tenacity import retry, stop_after_attempt, wait_exponential\n",
        "\n",
        "openai.api_key = \"OPEN-API-KEY\"\n",
        "\n",
        "N_RETRIES = 3\n",
        "\n",
        "@retry(stop=stop_after_attempt(N_RETRIES), wait=wait_exponential(multiplier=1, min=4, max=70))\n",
        "def generate_example(prompt, prev_examples, temperature=.5):\n",
        "    messages=[\n",
        "        {\n",
        "            \"role\": \"system\",\n",
        "            \"content\": f\"You are generating data which will be used to train a machine learning model.\\n\\nYou will be given a high-level description of the model we want to train, and from that, you will generate data samples, each with a prompt/response pair.\\n\\nYou will do so in this format:\\n```\\nprompt\\n-----------\\n$prompt_goes_here\\n-----------\\n\\nresponse\\n-----------\\n$response_goes_here\\n-----------\\n```\\n\\nOnly one prompt/response pair should be generated per turn.\\n\\nFor each turn, make the example slightly more complex than the last, while ensuring diversity.\\n\\nMake sure your samples are unique and diverse, yet high-quality and complex enough to train a well-performing model. Include examples of both patent applications that were accepted due to uniqness and novel claims and rejected due to not being novel,distinct or innovative relative to prior patents, and describe how this obviouness contributes to the patent's rejection. \\n\\n Here is an example of the data that needs to be generated: \\n\\n prompt: Prior Art Title: \\\"Wireless Communication Device\\\"\\nPrior Art Abstract: A wireless communication device includes a wireless communication unit that performs wireless communication with an exterior, and a control unit that controls the wireless communication unit. The wireless communication unit includes a first wireless communication element and a second wireless communication element that is different from the first wireless communication element.\\n\\n New Patent Title: 'Advanced Wireless Communication Device' \\nNew Patent Abstract: An advanced wireless communication device comprises a wireless communication module capable of communicating wirelessly with an external entity, and a control module that governs the wireless communication module. The wireless communication module includes a primary wireless communication element and an auxiliary wireless communication element, distinct from the primary one.\\n\\nPlease assess the novelty of the new patent application.\\n\\n response: The prior art and the new patent application both pertain to the same domain of wireless communication devices. Here's the analysis:\\n\\nPrincipal Points of Comparison:\\n1. Both devices include a wireless communication unit and a control unit.\\n2. Both devices have two distinct wireless communication elements.\\n\\nKey Similarities:\\n1. The control unit governs the wireless communication module in both.\\n2. Both have a primary and a secondary wireless communication element.\\n\\nDifferences and Unique Features:\\n1. The new patent application uses the terms \\\"primary\\\" and \\\"auxiliary\\\" to describe the wireless communication elements, which could imply a difference in hierarchy or function, but this is not clearly specified.\\n\\nBased on this comparison, it appears that the new patent application does not introduce significantly novel elements compared to the prior art. The concepts seem very similar, and without further clarification on the difference between \\\"primary\\\" and \\\"auxiliary\\\" elements, the patent risk being rejected due to lack of uniqueness. Therefore, the patent application might not merit approval. \\n\\nHere is the type of model we want to train:\\n`{prompt}`\"}\n",
        "    ]\n",
        "\n",
        "    if len(prev_examples) > 0:\n",
        "        if len(prev_examples) > 8:\n",
        "            prev_examples = random.sample(prev_examples, 8)\n",
        "        for example in prev_examples:\n",
        "            messages.append({\n",
        "                \"role\": \"assistant\",\n",
        "                \"content\": example\n",
        "            })\n",
        "\n",
        "    response = openai.ChatCompletion.create(\n",
        "        model=\"gpt-4\",\n",
        "        messages=messages,\n",
        "        temperature=temperature,\n",
        "        max_tokens=1000,\n",
        "    )\n",
        "\n",
        "    return response.choices[0].message['content']\n",
        "\n",
        "# Generate examples\n",
        "prev_examples = []\n",
        "for i in range(number_of_examples):\n",
        "    print(f'Generating example {i}')\n",
        "    example = generate_example(prompt, prev_examples, temperature)\n",
        "    prev_examples.append(example)\n",
        "\n",
        "print(prev_examples)"
      ]
    },
    {
      "cell_type": "code",
      "execution_count": 21,
      "metadata": {
        "colab": {
          "base_uri": "https://localhost:8080/"
        },
        "id": "y2mDUsW6t49G",
        "outputId": "a8410b5b-a687-4078-e6bb-5f0631298bf1"
      },
      "outputs": [
        {
          "name": "stdout",
          "output_type": "stream",
          "text": [
            "prompt\n",
            "-----------\n",
            "Prior Art Title: \"Wireless Sensor Network\"\n",
            "Prior Art Abstract: A wireless sensor network that comprises multiple sensor nodes distributed over a geographical area. These nodes collect data, which is then transmitted to a central server for analysis.\n",
            "\n",
            "New Patent Title: \"Self-Organizing Wireless Sensor Network\"\n",
            "New Patent Abstract: A self-organizing wireless sensor network that includes a multitude of sensor nodes spread across a geographical region. These nodes gather data and autonomously form an optimal data transmission path to a central server for analysis, improving network efficiency.\n",
            "\n",
            "Please assess the novelty of the new patent application.\n",
            "\n",
            "response\n",
            "-----------\n",
            "Both the prior art and the new patent application relate to wireless sensor networks. Here's the analysis:\n",
            "\n",
            "Principal Points of Comparison:\n",
            "1. Both networks consist of multiple sensor nodes distributed over a geographical area that collect data and transmit it to a central server.\n",
            "2. Both networks perform the function of data collection and transmission.\n",
            "\n",
            "Key Similarities:\n",
            "1. The main system components and functionalities are identical in both.\n",
            "\n",
            "Differences and Unique Features:\n",
            "1. The new patent application introduces 'autonomous formation of an optimal data transmission path' which could improve network efficiency.\n",
            "\n",
            "The introduction of a self-organizing feature that allows autonomous formation of an optimal data transmission path in the new patent application introduces a novel element that could significantly enhance the efficiency of the wireless sensor network. This feature could differentiate the new patent application from the prior art and possibly satisfy the patentability criteria within its field. Therefore, the new patent application might merit approval.\n"
          ]
        }
      ],
      "source": [
        "print(prev_examples[4])"
      ]
    },
    {
      "cell_type": "code",
      "execution_count": 11,
      "metadata": {
        "id": "JMgy_52A4XTm"
      },
      "outputs": [],
      "source": [
        "system_message = \"Given an existing prior art patent and a new patent application, both consisting of a title, abstract, summary, and patent claims, assess the novelty of the new patent by comparing their technical specifications. Ensure they pertain to the same domain. If they don't, indicate this and avoid novelty evaluation. Identify key similarities, highlight principal points of comparison, detail the differences, and assess if the new patent introduces novel elements. If too similar, explain why the patent should not be granted. Conclude with a definitive answer on whether the patent application merits approval.\""
      ]
    },
    {
      "cell_type": "code",
      "execution_count": 12,
      "metadata": {},
      "outputs": [
        {
          "name": "stdout",
          "output_type": "stream",
          "text": [
            "{'input': [{'role': 'system', 'content': \"Given an existing prior art patent and a new patent application, both consisting of a title, abstract, summary, and patent claims, assess the novelty of the new patent by comparing their technical specifications. Ensure they pertain to the same domain. If they don't, indicate this and avoid novelty evaluation. Identify key similarities, highlight principal points of comparison, detail the differences, and assess if the new patent introduces novel elements. If too similar, explain why the patent should not be granted. Conclude with a definitive answer on whether the patent application merits approval.\"}, {'role': 'user', 'content': 'A model that takes a existing prior art patent and a new patent application as input and both the patents consists of a title, abstract (about 150 words) , summary (about  500 words) and patemt claims (average 700 words) to assess the novelty of the patents by comparing their technical specifications, ensuring both pertain to the same domain. If they originate from different domains, identify this and avoid novelty evaluation. Limits the analysis to a comparison between one patent and one prior art. Should there be more, indicate: \"\"Currently, I can only analyze the novelty between one patent and one piece of prior art. Future updates may expand this capability. Please submit one patent and one prior art for evaluation.\\n\\nUpon verifying domain consistency, proceed to:\\n\\nIdentify and summarize the key similarities between the prior art and the patent application.\\nHighlight the principal points of comparison.\\nUse bullet points to detail the differences, unique features, and distinctions between the two, focusing on what sets the patent application apart.\\nAssess if the patent application introduces novel elements and satisfies the patentability criteria within its field when compared to the prior art.\\nIf the concepts are too similar or if there\\'s evidence of plagiarism, explain why the patent should not be granted and the risk of rejection.\\nConclude with a definitive yes or no on whether the patent application merits approval.\\n'}], 'ideal': []}\n"
          ]
        }
      ],
      "source": [
        "eval_data = []\n",
        "#input_prompt = \"TASK: Answer the following question with syntactically correct SQLite SQL. The SQL should be correct and be in context of the previous question-answer pairs.\\nTable car_makers, columns = [*,Id,Maker,FullName,Country]\\nTable car_names, columns = [*,MakeId,Model,Make]\\nTable cars_data, columns = [*,Id,MPG,Cylinders,Edispl,Horsepower,Weight,Accelerate,Year]\\nTable continents, columns = [*,ContId,Continent]\\nTable countries, columns = [*,CountryId,CountryName,Continent]\\nTable model_list, columns = [*,ModelId,Maker,Model]\\nForeign_keys = [countries.Continent = continents.ContId,car_makers.Country = countries.CountryId,model_list.Maker = car_makers.Id,car_names.Model = model_list.Model,cars_data.Id = car_names.MakeId]\"\n",
        "\n",
        "for example in prev_examples:\n",
        "  try:\n",
        "    split_example = example.split('-----------')\n",
        "    prompts.append(split_example[1].strip())\n",
        "    responses.append(split_example[3].strip())\n",
        "  except:\n",
        "    pass\n",
        "eval_data.append({\n",
        "    \"input\": [\n",
        "        {\"role\": \"system\", \"content\": system_message.strip()},\n",
        "        {\"role\": \"user\", \"content\": prompt},\n",
        "    ],\n",
        "    \"ideal\": responses\n",
        "})\n",
        "\n",
        "for item in eval_data:\n",
        "    print(item)"
      ]
    },
    {
      "cell_type": "markdown",
      "metadata": {
        "id": "G6BqZ-hjseBF"
      },
      "source": [
        "Now let's put our examples into a dataframe and turn them into a final pair of datasets."
      ]
    },
    {
      "cell_type": "code",
      "execution_count": 8,
      "metadata": {
        "colab": {
          "base_uri": "https://localhost:8080/"
        },
        "id": "7CEdkYeRsdmB",
        "outputId": "d321a0b9-3d10-48b0-fd2b-3c84f2c34074"
      },
      "outputs": [
        {
          "ename": "ValueError",
          "evalue": "All arrays must be of the same length",
          "output_type": "error",
          "traceback": [
            "\u001b[0;31m---------------------------------------------------------------------------\u001b[0m",
            "\u001b[0;31mValueError\u001b[0m                                Traceback (most recent call last)",
            "Cell \u001b[0;32mIn[8], line 18\u001b[0m\n\u001b[1;32m     15\u001b[0m     \u001b[38;5;28;01mpass\u001b[39;00m\n\u001b[1;32m     17\u001b[0m \u001b[38;5;66;03m# Create a DataFrame\u001b[39;00m\n\u001b[0;32m---> 18\u001b[0m df \u001b[38;5;241m=\u001b[39m \u001b[43mpd\u001b[49m\u001b[38;5;241;43m.\u001b[39;49m\u001b[43mDataFrame\u001b[49m\u001b[43m(\u001b[49m\u001b[43m{\u001b[49m\n\u001b[1;32m     19\u001b[0m \u001b[43m    \u001b[49m\u001b[38;5;124;43m'\u001b[39;49m\u001b[38;5;124;43mprompt\u001b[39;49m\u001b[38;5;124;43m'\u001b[39;49m\u001b[43m:\u001b[49m\u001b[43m \u001b[49m\u001b[43mprompts\u001b[49m\u001b[43m,\u001b[49m\n\u001b[1;32m     20\u001b[0m \u001b[43m    \u001b[49m\u001b[38;5;124;43m'\u001b[39;49m\u001b[38;5;124;43mresponse\u001b[39;49m\u001b[38;5;124;43m'\u001b[39;49m\u001b[43m:\u001b[49m\u001b[43m \u001b[49m\u001b[43mresponses\u001b[49m\n\u001b[1;32m     21\u001b[0m \u001b[43m}\u001b[49m\u001b[43m)\u001b[49m\n\u001b[1;32m     23\u001b[0m \u001b[38;5;66;03m# Remove duplicates\u001b[39;00m\n\u001b[1;32m     24\u001b[0m df \u001b[38;5;241m=\u001b[39m df\u001b[38;5;241m.\u001b[39mdrop_duplicates()\n",
            "File \u001b[0;32m~/Library/Python/3.9/lib/python/site-packages/pandas/core/frame.py:767\u001b[0m, in \u001b[0;36mDataFrame.__init__\u001b[0;34m(self, data, index, columns, dtype, copy)\u001b[0m\n\u001b[1;32m    761\u001b[0m     mgr \u001b[38;5;241m=\u001b[39m \u001b[38;5;28mself\u001b[39m\u001b[38;5;241m.\u001b[39m_init_mgr(\n\u001b[1;32m    762\u001b[0m         data, axes\u001b[38;5;241m=\u001b[39m{\u001b[38;5;124m\"\u001b[39m\u001b[38;5;124mindex\u001b[39m\u001b[38;5;124m\"\u001b[39m: index, \u001b[38;5;124m\"\u001b[39m\u001b[38;5;124mcolumns\u001b[39m\u001b[38;5;124m\"\u001b[39m: columns}, dtype\u001b[38;5;241m=\u001b[39mdtype, copy\u001b[38;5;241m=\u001b[39mcopy\n\u001b[1;32m    763\u001b[0m     )\n\u001b[1;32m    765\u001b[0m \u001b[38;5;28;01melif\u001b[39;00m \u001b[38;5;28misinstance\u001b[39m(data, \u001b[38;5;28mdict\u001b[39m):\n\u001b[1;32m    766\u001b[0m     \u001b[38;5;66;03m# GH#38939 de facto copy defaults to False only in non-dict cases\u001b[39;00m\n\u001b[0;32m--> 767\u001b[0m     mgr \u001b[38;5;241m=\u001b[39m \u001b[43mdict_to_mgr\u001b[49m\u001b[43m(\u001b[49m\u001b[43mdata\u001b[49m\u001b[43m,\u001b[49m\u001b[43m \u001b[49m\u001b[43mindex\u001b[49m\u001b[43m,\u001b[49m\u001b[43m \u001b[49m\u001b[43mcolumns\u001b[49m\u001b[43m,\u001b[49m\u001b[43m \u001b[49m\u001b[43mdtype\u001b[49m\u001b[38;5;241;43m=\u001b[39;49m\u001b[43mdtype\u001b[49m\u001b[43m,\u001b[49m\u001b[43m \u001b[49m\u001b[43mcopy\u001b[49m\u001b[38;5;241;43m=\u001b[39;49m\u001b[43mcopy\u001b[49m\u001b[43m,\u001b[49m\u001b[43m \u001b[49m\u001b[43mtyp\u001b[49m\u001b[38;5;241;43m=\u001b[39;49m\u001b[43mmanager\u001b[49m\u001b[43m)\u001b[49m\n\u001b[1;32m    768\u001b[0m \u001b[38;5;28;01melif\u001b[39;00m \u001b[38;5;28misinstance\u001b[39m(data, ma\u001b[38;5;241m.\u001b[39mMaskedArray):\n\u001b[1;32m    769\u001b[0m     \u001b[38;5;28;01mfrom\u001b[39;00m \u001b[38;5;21;01mnumpy\u001b[39;00m\u001b[38;5;21;01m.\u001b[39;00m\u001b[38;5;21;01mma\u001b[39;00m \u001b[38;5;28;01mimport\u001b[39;00m mrecords\n",
            "File \u001b[0;32m~/Library/Python/3.9/lib/python/site-packages/pandas/core/internals/construction.py:503\u001b[0m, in \u001b[0;36mdict_to_mgr\u001b[0;34m(data, index, columns, dtype, typ, copy)\u001b[0m\n\u001b[1;32m    499\u001b[0m     \u001b[38;5;28;01melse\u001b[39;00m:\n\u001b[1;32m    500\u001b[0m         \u001b[38;5;66;03m# dtype check to exclude e.g. range objects, scalars\u001b[39;00m\n\u001b[1;32m    501\u001b[0m         arrays \u001b[38;5;241m=\u001b[39m [x\u001b[38;5;241m.\u001b[39mcopy() \u001b[38;5;28;01mif\u001b[39;00m \u001b[38;5;28mhasattr\u001b[39m(x, \u001b[38;5;124m\"\u001b[39m\u001b[38;5;124mdtype\u001b[39m\u001b[38;5;124m\"\u001b[39m) \u001b[38;5;28;01melse\u001b[39;00m x \u001b[38;5;28;01mfor\u001b[39;00m x \u001b[38;5;129;01min\u001b[39;00m arrays]\n\u001b[0;32m--> 503\u001b[0m \u001b[38;5;28;01mreturn\u001b[39;00m \u001b[43marrays_to_mgr\u001b[49m\u001b[43m(\u001b[49m\u001b[43marrays\u001b[49m\u001b[43m,\u001b[49m\u001b[43m \u001b[49m\u001b[43mcolumns\u001b[49m\u001b[43m,\u001b[49m\u001b[43m \u001b[49m\u001b[43mindex\u001b[49m\u001b[43m,\u001b[49m\u001b[43m \u001b[49m\u001b[43mdtype\u001b[49m\u001b[38;5;241;43m=\u001b[39;49m\u001b[43mdtype\u001b[49m\u001b[43m,\u001b[49m\u001b[43m \u001b[49m\u001b[43mtyp\u001b[49m\u001b[38;5;241;43m=\u001b[39;49m\u001b[43mtyp\u001b[49m\u001b[43m,\u001b[49m\u001b[43m \u001b[49m\u001b[43mconsolidate\u001b[49m\u001b[38;5;241;43m=\u001b[39;49m\u001b[43mcopy\u001b[49m\u001b[43m)\u001b[49m\n",
            "File \u001b[0;32m~/Library/Python/3.9/lib/python/site-packages/pandas/core/internals/construction.py:114\u001b[0m, in \u001b[0;36marrays_to_mgr\u001b[0;34m(arrays, columns, index, dtype, verify_integrity, typ, consolidate)\u001b[0m\n\u001b[1;32m    111\u001b[0m \u001b[38;5;28;01mif\u001b[39;00m verify_integrity:\n\u001b[1;32m    112\u001b[0m     \u001b[38;5;66;03m# figure out the index, if necessary\u001b[39;00m\n\u001b[1;32m    113\u001b[0m     \u001b[38;5;28;01mif\u001b[39;00m index \u001b[38;5;129;01mis\u001b[39;00m \u001b[38;5;28;01mNone\u001b[39;00m:\n\u001b[0;32m--> 114\u001b[0m         index \u001b[38;5;241m=\u001b[39m \u001b[43m_extract_index\u001b[49m\u001b[43m(\u001b[49m\u001b[43marrays\u001b[49m\u001b[43m)\u001b[49m\n\u001b[1;32m    115\u001b[0m     \u001b[38;5;28;01melse\u001b[39;00m:\n\u001b[1;32m    116\u001b[0m         index \u001b[38;5;241m=\u001b[39m ensure_index(index)\n",
            "File \u001b[0;32m~/Library/Python/3.9/lib/python/site-packages/pandas/core/internals/construction.py:677\u001b[0m, in \u001b[0;36m_extract_index\u001b[0;34m(data)\u001b[0m\n\u001b[1;32m    675\u001b[0m lengths \u001b[38;5;241m=\u001b[39m \u001b[38;5;28mlist\u001b[39m(\u001b[38;5;28mset\u001b[39m(raw_lengths))\n\u001b[1;32m    676\u001b[0m \u001b[38;5;28;01mif\u001b[39;00m \u001b[38;5;28mlen\u001b[39m(lengths) \u001b[38;5;241m>\u001b[39m \u001b[38;5;241m1\u001b[39m:\n\u001b[0;32m--> 677\u001b[0m     \u001b[38;5;28;01mraise\u001b[39;00m \u001b[38;5;167;01mValueError\u001b[39;00m(\u001b[38;5;124m\"\u001b[39m\u001b[38;5;124mAll arrays must be of the same length\u001b[39m\u001b[38;5;124m\"\u001b[39m)\n\u001b[1;32m    679\u001b[0m \u001b[38;5;28;01mif\u001b[39;00m have_dicts:\n\u001b[1;32m    680\u001b[0m     \u001b[38;5;28;01mraise\u001b[39;00m \u001b[38;5;167;01mValueError\u001b[39;00m(\n\u001b[1;32m    681\u001b[0m         \u001b[38;5;124m\"\u001b[39m\u001b[38;5;124mMixing dicts with non-Series may lead to ambiguous ordering.\u001b[39m\u001b[38;5;124m\"\u001b[39m\n\u001b[1;32m    682\u001b[0m     )\n",
            "\u001b[0;31mValueError\u001b[0m: All arrays must be of the same length"
          ]
        }
      ],
      "source": [
        "import json\n",
        "import pandas as pd\n",
        "\n",
        "# Initialize lists to store prompts and responses\n",
        "prompts = []\n",
        "responses = []\n",
        "\n",
        "# Parse out prompts and responses from examples\n",
        "for example in prev_examples:\n",
        "  try:\n",
        "    split_example = example.split('-----------')\n",
        "    prompts.append(split_example[1].strip())\n",
        "    responses.append(split_example[3].strip())\n",
        "  except:\n",
        "    pass\n",
        "\n",
        "# Create a DataFrame\n",
        "df = pd.DataFrame({\n",
        "    'prompt': prompts,\n",
        "    'response': responses\n",
        "})\n",
        "\n",
        "# Remove duplicates\n",
        "df = df.drop_duplicates()\n",
        "\n",
        "print('There are ' + str(len(df)) + ' successfully-generated examples.')\n",
        "\n",
        "# Initialize list to store training examples\n",
        "training_examples = []\n",
        "\n",
        "# Create training examples in the format required for GPT-3.5 fine-tuning\n",
        "for index, row in df.iterrows():\n",
        "    training_example = {\n",
        "        \"input\": [\n",
        "            {\"role\": \"system\", \"content\": system_message.strip()},\n",
        "            {\"role\": \"user\", \"content\": row['prompt']},\n",
        "        ],\n",
        "        \"ideal\": responses\n",
        "            \n",
        "    }\n",
        "    training_examples.append(training_example)\n",
        "\n",
        "# Save training examples to a .jsonl file\n",
        "with open('eval_data_first_five.jsonl', 'w') as f:\n",
        "    for example in training_examples:\n",
        "        f.write(json.dumps(example) + '\\n')"
      ]
    },
    {
      "cell_type": "code",
      "execution_count": 30,
      "metadata": {
        "colab": {
          "base_uri": "https://localhost:8080/",
          "height": 17
        },
        "id": "ivBIRY5hpA3S",
        "outputId": "ca333243-9927-400a-8167-1b96a93f9ab8"
      },
      "outputs": [
        {
          "data": {
            "text/plain": [
              "\" from google.colab import files\\n# Download the JSON file\\nfiles.download('C_CPC_training_examples.jsonl') \""
            ]
          },
          "execution_count": 30,
          "metadata": {},
          "output_type": "execute_result"
        }
      ],
      "source": [
        "\"\"\" from google.colab import files\n",
        "# Download the JSON file\n",
        "files.download('C_CPC_training_examples.jsonl') \"\"\""
      ]
    },
    {
      "cell_type": "code",
      "execution_count": null,
      "metadata": {
        "colab": {
          "base_uri": "https://localhost:8080/"
        },
        "id": "V-_AbcfdY0uC",
        "outputId": "45b8b67d-2ce8-464e-b722-a1791474cf32"
      },
      "outputs": [
        {
          "name": "stdout",
          "output_type": "stream",
          "text": [
            "prompt\n",
            "-----------\n",
            "Prior Art Title: \"Wireless Communication Device\"\n",
            "Prior Art Abstract: A wireless communication device includes a wireless communication unit that performs wireless communication with an exterior, and a control unit that controls the wireless communication unit. The wireless communication unit includes a first wireless communication element and a second wireless communication element that is different from the first wireless communication element.\n",
            "\n",
            "New Patent Title: \"Advanced Wireless Communication Device\"\n",
            "New Patent Abstract: An advanced wireless communication device comprises a wireless communication module capable of communicating wirelessly with an external entity, and a control module that governs the wireless communication module. The wireless communication module includes a primary wireless communication element and an auxiliary wireless communication element, distinct from the primary one.\n",
            "\n",
            "Please assess the novelty of the new patent application.\n",
            "-----------\n",
            "response\n",
            "-----------\n",
            "The prior art and the new patent application both pertain to the same domain of wireless communication devices. Here's the analysis:\n",
            "\n",
            "Principal Points of Comparison:\n",
            "1. Both devices include a wireless communication unit and a control unit.\n",
            "2. Both devices have two distinct wireless communication elements.\n",
            "\n",
            "Key Similarities:\n",
            "1. The control unit governs the wireless communication module in both.\n",
            "2. Both have a primary and a secondary wireless communication element.\n",
            "\n",
            "Differences and Unique Features:\n",
            "1. The new patent application uses the terms \"primary\" and \"auxiliary\" to describe the wireless communication elements, which could imply a difference in hierarchy or function, but this is not clearly specified.\n",
            "\n",
            "Based on this comparison, it appears that the new patent application does not introduce significantly novel elements compared to the prior art. The concepts seem very similar, and without further clarification on the difference between \"primary\" and \"auxiliary\" elements, the patent risk being rejected due to lack of uniqueness. Therefore, the patent application might not merit approval.\n"
          ]
        }
      ],
      "source": [
        "print(prev_examples[0])"
      ]
    },
    {
      "cell_type": "code",
      "execution_count": null,
      "metadata": {
        "colab": {
          "base_uri": "https://localhost:8080/"
        },
        "id": "Qpn6zvwEoKk9",
        "outputId": "3bc059d7-3cfe-4ed9-9442-890f5da2565f"
      },
      "outputs": [
        {
          "name": "stdout",
          "output_type": "stream",
          "text": [
            "prompt\n",
            "-----------\n",
            "Prior Art Title: \"Solar-powered Water Purification System\"\n",
            "Prior Art Abstract: A solar-powered water purification system comprising a solar panel, a battery, a pump, and a purification module. The solar panel converts sunlight into electricity, stored in the battery. The pump, powered by the battery, drives impure water through the purification module which filters out impurities, delivering clean water.\n",
            "\n",
            "New Patent Title: \"Portable Solar-Powered Water Purification Device\"\n",
            "New Patent Abstract: A portable solar-powered water purification device includes a solar panel, a rechargeable battery, a motor, and a purification chamber. The solar panel absorbs sunlight, converting it to electricity which charges the battery. The motor, energized by the battery, propels contaminated water into the purification chamber where impurities are removed, yielding potable water.\n",
            "\n",
            "Please assess the novelty of the new patent application.\n",
            "-----------\n",
            "response\n",
            "-----------\n",
            "Both the prior art and the new patent application fall under the domain of solar-powered water purification systems. Here's the analysis:\n",
            "\n",
            "Principal Points of Comparison:\n",
            "1. Both systems consist of a solar panel, a battery, a pump/motor, and a purification module/chamber.\n",
            "2. Both systems convert sunlight into electricity, which powers a pump/motor to drive water through a purification process.\n",
            "\n",
            "Key Similarities:\n",
            "1. The overall functionality and components of both systems are essentially the same.\n",
            "2. Both systems use solar energy and a battery to power a water purification process.\n",
            "\n",
            "Differences and Unique Features:\n",
            "1. The new patent application introduces portability, which could be a significant improvement depending on the size, weight, and ease of transport.\n",
            "\n",
            "Based on this comparison, the new patent application seems to introduce the novel element of portability, which could satisfy the patentability criteria within its field when compared to the prior art. However, without further technical specifics on the design and implementation of this portability, it's difficult to definitively say if the patent application merits approval. More details are needed to make a conclusive decision.\n"
          ]
        }
      ],
      "source": [
        "print(prev_examples[1])"
      ]
    },
    {
      "cell_type": "code",
      "execution_count": null,
      "metadata": {
        "colab": {
          "base_uri": "https://localhost:8080/"
        },
        "id": "CwRIRVyeoRnF",
        "outputId": "314f9de0-38b9-4c71-e257-b4ec8c5ed919"
      },
      "outputs": [
        {
          "name": "stdout",
          "output_type": "stream",
          "text": [
            "prompt\n",
            "-----------\n",
            "Prior Art Title: \"Automated Retail Checkout System\"\n",
            "Prior Art Abstract: An automated retail checkout system that includes a conveyor belt, a scanner, and a payment terminal. Items are placed on the conveyor belt, scanned by the scanner to identify and price them, and then the total is calculated for payment at the payment terminal.\n",
            "\n",
            "New Patent Title: \"Smart Retail Checkout Solution\"\n",
            "New Patent Abstract: A smart retail checkout solution comprises a conveyor mechanism, an intelligent scanner, and a digital payment portal. Customers place their items on the conveyor mechanism, which are identified and priced by the intelligent scanner using advanced image recognition technology. The total cost is then computed for payment at the digital payment portal.\n",
            "\n",
            "Please assess the novelty of the new patent application.\n",
            "-----------\n",
            "response\n",
            "-----------\n",
            "Both the prior art and the new patent application are in the domain of automated retail checkout systems. Here's the analysis:\n",
            "\n",
            "Principal Points of Comparison:\n",
            "1. Both systems include a conveyor mechanism, a scanner, and a payment terminal.\n",
            "2. Both systems scan items, calculate total price, and facilitate payment.\n",
            "\n",
            "Key Similarities:\n",
            "1. The overall function of identifying, pricing, and making payments for items is the same in both systems.\n",
            "\n",
            "Differences and Unique Features:\n",
            "1. The new patent application introduces an 'intelligent scanner' using 'advanced image recognition technology', which could potentially offer improvements in accuracy and efficiency.\n",
            "2. The term 'digital payment portal' suggests the possibility of multiple payment methods, enhancing customer convenience.\n",
            "\n",
            "Based on this comparison, the new patent application seems to introduce novel elements (advanced image recognition technology and a digital payment portal) that could enhance the performance and user experience of the existing system. Thus, the patent application appears to satisfy the patentability criteria within its field when compared to the prior art. The patent application seems to merit approval, provided that the 'intelligent scanner' and 'digital payment portal' are indeed novel and non-obvious advancements.\n"
          ]
        }
      ],
      "source": [
        "print(prev_examples[2])"
      ]
    },
    {
      "cell_type": "code",
      "execution_count": null,
      "metadata": {
        "colab": {
          "base_uri": "https://localhost:8080/"
        },
        "id": "ZU98Dio2oWE7",
        "outputId": "4e313203-33f2-4ecf-8549-271a07b8cf44"
      },
      "outputs": [
        {
          "name": "stdout",
          "output_type": "stream",
          "text": [
            "prompt\n",
            "-----------\n",
            "Prior Art Title: \"Electric Vehicle Charging Station\"\n",
            "Prior Art Abstract: An electric vehicle charging station includes a power supply module, a control module, and a charging connector. The power supply module provides the necessary power. The control module regulates the power supply and communicates with the electric vehicle to manage the charging process. The charging connector connects the charging station to the vehicle.\n",
            "\n",
            "New Patent Title: \"Smart Electric Vehicle Charging Station\"\n",
            "New Patent Abstract: A smart electric vehicle charging station comprises a power source, a smart control unit, and a charging plug. The power source provides the required power. The smart control unit, equipped with IoT technology, controls the power source and communicates with the electric vehicle to efficiently manage the charging. The charging plug connects the station to the vehicle.\n",
            "\n",
            "Please assess the novelty of the new patent application.\n",
            "-----------\n",
            "response\n",
            "-----------\n",
            "The prior art and the new patent application are both in the domain of electric vehicle charging stations. Here's the analysis:\n",
            "\n",
            "Principal Points of Comparison:\n",
            "1. Both systems include a power supply, a control unit, and a charging connector.\n",
            "2. Both systems provide power and manage the charging process.\n",
            "\n",
            "Key Similarities:\n",
            "1. The overall function of providing power and managing the charging process is the same in both systems.\n",
            "\n",
            "Differences and Unique Features:\n",
            "1. The new patent application introduces a 'smart control unit' equipped with 'IoT technology', which could potentially offer improvements in efficiency and remote management.\n",
            "\n",
            "Based on this comparison, the new patent application seems to introduce the novel element of IoT technology that could enhance the performance and user experience of the existing system. Thus, the patent application appears to satisfy the patentability criteria within its field when compared to the prior art. The patent application seems to merit approval, provided that the 'smart control unit' and 'IoT technology' are indeed novel and non-obvious advancements.\n"
          ]
        }
      ],
      "source": [
        "print(prev_examples[3])"
      ]
    },
    {
      "cell_type": "code",
      "execution_count": null,
      "metadata": {
        "colab": {
          "base_uri": "https://localhost:8080/"
        },
        "id": "xTNLrFFcoWCw",
        "outputId": "a67d5303-2fcf-4bf8-9809-959cc62c045a"
      },
      "outputs": [
        {
          "name": "stdout",
          "output_type": "stream",
          "text": [
            "prompt\n",
            "-----------\n",
            "Prior Art Title: \"Biometric Security System\"\n",
            "Prior Art Abstract: A biometric security system that includes a sensor for capturing biometric data, a processor for verifying the captured data against stored data, and an access control mechanism that grants or denies access based on the verification result. \n",
            "\n",
            "New Patent Title: \"Advanced Biometric Security System with Live Detection\"\n",
            "New Patent Abstract: An advanced biometric security system that incorporates a biometric sensor for acquiring biometric data, a detection unit for live detection, a verification processor for comparing the acquired data with pre-stored data, and an access control mechanism that grants or denies access contingent on the verification outcome. \n",
            "\n",
            "Please assess the novelty of the new patent application.\n",
            "-----------\n",
            "response\n",
            "-----------\n",
            "Both the prior art and the new patent application fall under the domain of biometric security systems. Here's the analysis:\n",
            "\n",
            "Principal Points of Comparison:\n",
            "1. Both systems include a biometric sensor, a verification processor, and an access control mechanism.\n",
            "2. Both systems capture biometric data, verify against stored data, and grant or deny access based on verification.\n",
            "\n",
            "Key Similarities:\n",
            "1. The overall function of capturing biometric data, verifying it, and controlling access is the same in both systems.\n",
            "\n",
            "Differences and Unique Features:\n",
            "1. The new patent application introduces a 'detection unit for live detection', which could be a significant improvement in preventing spoofing attacks.\n",
            "\n",
            "Based on this comparison, the new patent application seems to introduce the novel element of live detection, which could satisfy the patentability criteria within its field when compared to the prior art. Thus, the patent application appears to merit approval, provided that the 'detection unit for live detection' is indeed a novel and non-obvious advancement.\n"
          ]
        }
      ],
      "source": [
        "print(prev_examples[4])"
      ]
    },
    {
      "cell_type": "code",
      "execution_count": null,
      "metadata": {
        "colab": {
          "base_uri": "https://localhost:8080/"
        },
        "id": "80pk1G8loWAb",
        "outputId": "cdaeb62f-3fb8-4897-a084-43b9476e5215"
      },
      "outputs": [
        {
          "name": "stdout",
          "output_type": "stream",
          "text": [
            "prompt\n",
            "-----------\n",
            "Prior Art Title: \"Virtual Reality Gaming System\"\n",
            "Prior Art Abstract: A virtual reality gaming system includes a headset for displaying virtual reality content, controllers for user interaction, and a processing unit for running the game. The system provides an immersive gaming experience by integrating visual, auditory, and haptic feedback.\n",
            "\n",
            "New Patent Title: \"Enhanced Virtual Reality Gaming System with AI\"\n",
            "New Patent Abstract: An enhanced virtual reality gaming system comprises a VR headset for rendering virtual reality content, AI-powered controllers for advanced user interaction, and a game processing unit. The system offers an immersive gaming experience by integrating visual, auditory, and haptic feedback and leveraging AI to adapt the game dynamics based on user behavior.\n",
            "\n",
            "Please assess the novelty of the new patent application.\n",
            "-----------\n",
            "response\n",
            "-----------\n",
            "Both the prior art and the new patent application are in the domain of virtual reality gaming systems. Here's the analysis:\n",
            "\n",
            "Principal Points of Comparison:\n",
            "1. Both systems include a VR headset, controllers, and a processing unit.\n",
            "2. Both systems provide an immersive gaming experience through visual, auditory, and haptic feedback.\n",
            "\n",
            "Key Similarities:\n",
            "1. The overall function of rendering VR content and allowing user interaction is the same in both systems.\n",
            "\n",
            "Differences and Unique Features:\n",
            "1. The new patent application introduces 'AI-powered controllers' and 'AI to adapt game dynamics based on user behavior', which could potentially offer personalized and dynamic gaming experiences.\n",
            "\n",
            "Based on this comparison, the new patent application seems to introduce the novel elements of AI-powered controllers and AI-adaptive game dynamics. These could enhance the gaming experience and user interaction, satisfying the patentability criteria within its field when compared to the prior art. The patent application appears to merit approval, provided that the AI-powered features are indeed novel and non-obvious advancements.\n"
          ]
        }
      ],
      "source": [
        "print(prev_examples[5])"
      ]
    },
    {
      "cell_type": "code",
      "execution_count": null,
      "metadata": {
        "colab": {
          "base_uri": "https://localhost:8080/"
        },
        "id": "6pYzy8B5oV9n",
        "outputId": "649511d1-9619-41eb-e6d8-9b6154470ff2"
      },
      "outputs": [
        {
          "name": "stdout",
          "output_type": "stream",
          "text": [
            "prompt\n",
            "-----------\n",
            "Prior Art Title: \"Wireless Earbuds with Noise Cancellation\"\n",
            "Prior Art Abstract: Wireless earbuds include a speaker, a microphone, and a noise cancellation unit. The speaker produces the audio output, the microphone captures ambient noise, and the noise cancellation unit generates an inverse sound wave to cancel out the ambient noise.\n",
            "\n",
            "New Patent Title: \"Wireless Earbuds with Adaptive Noise Cancellation\"\n",
            "New Patent Abstract: Wireless earbuds comprise a speaker, a microphone, and an adaptive noise cancellation module. The speaker delivers audio output, the microphone picks up the surrounding noise, and the adaptive noise cancellation module dynamically generates an inverse sound wave to neutralize the ambient noise based on the user's environment and preferences.\n",
            "\n",
            "Please assess the novelty of the new patent application.\n",
            "-----------\n",
            "response\n",
            "-----------\n",
            "Both the prior art and the new patent application fall into the domain of wireless earbuds with noise cancellation. Here's the analysis:\n",
            "\n",
            "Principal Points of Comparison:\n",
            "1. Both earbuds include a speaker, a microphone, and a noise cancellation unit.\n",
            "2. Both earbuds produce audio output, capture ambient noise, and generate an inverse sound wave to cancel out the noise.\n",
            "\n",
            "Key Similarities:\n",
            "1. The overall function of audio output and noise cancellation is the same in both earbuds.\n",
            "\n",
            "Differences and Unique Features:\n",
            "1. The new patent application introduces an 'adaptive noise cancellation module', which could potentially offer improvements in noise cancellation based on the user's environment and preferences.\n",
            "\n",
            "Based on this comparison, the new patent application seems to introduce the novel element of adaptive noise cancellation, which could satisfy the patentability criteria within its field when compared to the prior art. Thus, the patent application appears to merit approval, provided that the 'adaptive noise cancellation module' is indeed a novel and non-obvious advancement.\n"
          ]
        }
      ],
      "source": [
        "print(prev_examples[6])"
      ]
    },
    {
      "cell_type": "code",
      "execution_count": null,
      "metadata": {
        "colab": {
          "base_uri": "https://localhost:8080/"
        },
        "id": "lp-Ct53KoV7f",
        "outputId": "28189f6a-e7b1-403a-f472-fd3f57e98541"
      },
      "outputs": [
        {
          "name": "stdout",
          "output_type": "stream",
          "text": [
            "prompt\n",
            "-----------\n",
            "Prior Art Title: \"Automated Drone Delivery System\"\n",
            "Prior Art Abstract: An automated drone delivery system includes a drone with a cargo compartment, a navigation system for guiding the drone to the delivery location, and a control system for managing the drone's flight and delivery operations. \n",
            "\n",
            "New Patent Title: \"Intelligent Drone Delivery System with Real-time Tracking\"\n",
            "New Patent Abstract: An intelligent drone delivery system comprises a drone with a delivery compartment, a smart navigation system for directing the drone to the delivery site, a control unit for overseeing the drone's flight and delivery tasks, and a real-time tracking feature that allows customers to monitor the delivery in progress. \n",
            "\n",
            "Please assess the novelty of the new patent application.\n",
            "-----------\n",
            "response\n",
            "-----------\n",
            "Both the prior art and the new patent application are in the domain of drone delivery systems. Here's the analysis:\n",
            "\n",
            "Principal Points of Comparison:\n",
            "1. Both systems include a drone with a delivery compartment, a navigation system, and a control unit.\n",
            "2. Both systems guide the drone to the delivery site and manage the flight and delivery operations.\n",
            "\n",
            "Key Similarities:\n",
            "1. The overall function of delivering cargo using a drone is the same in both systems.\n",
            "\n",
            "Differences and Unique Features:\n",
            "1. The new patent application introduces a 'real-time tracking feature', which could potentially offer improvements in customer experience and delivery transparency.\n",
            "\n",
            "Based on this comparison, the new patent application seems to introduce the novel element of real-time tracking, which could enhance the user experience and satisfy the patentability criteria within its field when compared to the prior art. Thus, the patent application appears to merit approval, provided that the 'real-time tracking feature' is indeed a novel and non-obvious advancement.\n"
          ]
        }
      ],
      "source": [
        "print(prev_examples[7])"
      ]
    },
    {
      "cell_type": "code",
      "execution_count": null,
      "metadata": {
        "colab": {
          "base_uri": "https://localhost:8080/"
        },
        "id": "0DOTvjXToV4s",
        "outputId": "468df272-1629-435c-ecd1-0947cc5d1054"
      },
      "outputs": [
        {
          "name": "stdout",
          "output_type": "stream",
          "text": [
            "prompt\n",
            "-----------\n",
            "Prior Art Title: \"Smart Home Security System\"\n",
            "Prior Art Abstract: A smart home security system includes sensors for detecting intrusions, a control panel for managing the system, and a communication module for sending alerts. The system provides security by detecting unauthorized entries and alerting the homeowner.\n",
            "\n",
            "New Patent Title: \"Advanced Smart Home Security System with AI Intrusion Detection\"\n",
            "New Patent Abstract: An advanced smart home security system comprises sensors for intrusion detection, a control hub for system management, an alerting module, and an AI-powered intrusion detection unit. The system ensures security by identifying unauthorized entries using AI technology and alerting the homeowner via the alerting module.\n",
            "\n",
            "Please assess the novelty of the new patent application.\n",
            "-----------\n",
            "response\n",
            "-----------\n",
            "Both the prior art and the new patent application are in the domain of smart home security systems. Here's the analysis:\n",
            "\n",
            "Principal Points of Comparison:\n",
            "1. Both systems include sensors, a control unit, and an alerting module.\n",
            "2. Both systems detect unauthorized entries and alert the homeowner.\n",
            "\n",
            "Key Similarities:\n",
            "1. The overall function of detecting intrusions and sending alerts is the same in both systems.\n",
            "\n",
            "Differences and Unique Features:\n",
            "1. The new patent application introduces an 'AI-powered intrusion detection unit', which could potentially offer improvements in detection accuracy and efficiency.\n",
            "\n",
            "Based on this comparison, the new patent application seems to introduce the novel element of AI-powered intrusion detection, which could enhance the system's performance and satisfy the patentability criteria within its field when compared to the prior art. Thus, the patent application appears to merit approval, provided that the 'AI-powered intrusion detection unit' is indeed a novel and non-obvious advancement.\n"
          ]
        }
      ],
      "source": [
        "print(prev_examples[8])"
      ]
    },
    {
      "cell_type": "code",
      "execution_count": null,
      "metadata": {
        "colab": {
          "base_uri": "https://localhost:8080/"
        },
        "id": "xrIZqbDDoV1y",
        "outputId": "68a96db4-c356-4be1-8f9d-3a8d63b66b33"
      },
      "outputs": [
        {
          "name": "stdout",
          "output_type": "stream",
          "text": [
            "prompt\n",
            "-----------\n",
            "Prior Art Title: \"Automated Irrigation System\"\n",
            "Prior Art Abstract: An automated irrigation system includes a water source, a network of pipes, sprinklers, and a control unit. The control unit manages the operation of the sprinklers based on pre-set schedules, ensuring effective water distribution for plant growth.\n",
            "\n",
            "New Patent Title: \"Smart Irrigation System with Soil Moisture Sensors\"\n",
            "New Patent Abstract: A smart irrigation system comprises a water source, a pipe network, sprinkler heads, a control module, and soil moisture sensors. The control module operates the sprinkler heads based on data from the soil moisture sensors, ensuring optimal watering for plant growth.\n",
            "\n",
            "Please assess the novelty of the new patent application.\n",
            "-----------\n",
            "response\n",
            "-----------\n",
            "Both the prior art and the new patent application are in the domain of automated irrigation systems. Here's the analysis:\n",
            "\n",
            "Principal Points of Comparison:\n",
            "1. Both systems include a water source, a network of pipes, sprinklers, and a control unit.\n",
            "2. Both systems manage the operation of the sprinklers to ensure effective watering for plant growth.\n",
            "\n",
            "Key Similarities:\n",
            "1. The overall function of controlling sprinklers for watering plants is the same in both systems.\n",
            "\n",
            "Differences and Unique Features:\n",
            "1. The new patent application introduces 'soil moisture sensors', which could potentially offer improvements in water efficiency and plant health by providing more precise control based on actual soil conditions.\n",
            "\n",
            "Based on this comparison, the new patent application seems to introduce the novel element of soil moisture sensors, which could enhance the efficiency and effectiveness of the system and satisfy the patentability criteria within its field when compared to the prior art. Thus, the patent application appears to merit approval, provided that the 'soil moisture sensors' are indeed a novel and non-obvious advancement.\n"
          ]
        }
      ],
      "source": [
        "print(prev_examples[9])"
      ]
    },
    {
      "cell_type": "markdown",
      "metadata": {
        "id": "KC6iJzXjugJ-"
      },
      "source": [
        "We also need to generate a system message."
      ]
    },
    {
      "cell_type": "code",
      "execution_count": null,
      "metadata": {
        "colab": {
          "base_uri": "https://localhost:8080/"
        },
        "id": "xMcfhW6Guh2E",
        "outputId": "3a92553b-14c2-4923-c32c-5018dbd83620"
      },
      "outputs": [
        {
          "name": "stdout",
          "output_type": "stream",
          "text": [
            "The system message is: `Given a new patent application and an existing prior art patent, assess the novelty of the patents by comparing their technical specifications to determine if they pertain to the same domain.`. Feel free to re-run this cell if you want a better result.\n"
          ]
        }
      ],
      "source": [
        "def generate_system_message(prompt):\n",
        "\n",
        "    response = openai.ChatCompletion.create(\n",
        "        model=\"gpt-3.5-turbo\",\n",
        "        messages=[\n",
        "          {\n",
        "            \"role\": \"system\",\n",
        "            \"content\": \"You will be given a high-level description of the model we are training, and from that, you will generate a simple system prompt for that model to use. Remember, you are not generating the system message for data generation -- you are generating the system message to use for inference. A good format to follow is `Given $INPUT_DATA, you will $WHAT_THE_MODEL_SHOULD_DO.`.\\n\\nMake it as concise as possible. Include nothing but the system prompt in your response.\\n\\nFor example, never write: `\\\"$SYSTEM_PROMPT_HERE\\\"`.\\n\\nIt should be like: `$SYSTEM_PROMPT_HERE`.\"\n",
        "          },\n",
        "          {\n",
        "              \"role\": \"user\",\n",
        "              \"content\": prompt.strip(),\n",
        "          }\n",
        "        ],\n",
        "        temperature=temperature,\n",
        "        max_tokens=500,\n",
        "    )\n",
        "\n",
        "    return response.choices[0].message['content']\n",
        "\n",
        "system_message = generate_system_message(prompt)\n",
        "\n",
        "print(f'The system message is: `{system_message}`. Feel free to re-run this cell if you want a better result.')"
      ]
    },
    {
      "cell_type": "markdown",
      "metadata": {
        "id": "KWTY6qVgXD_T"
      },
      "source": [
        "# Upload the file to OpenAI"
      ]
    },
    {
      "cell_type": "code",
      "execution_count": null,
      "metadata": {
        "id": "4LjEUrI9XDgT"
      },
      "outputs": [],
      "source": [
        "file_id = openai.File.create(\n",
        "  file=open(\"/content/training_examples.jsonl\", \"rb\"),\n",
        "  purpose='fine-tune'\n",
        ").id"
      ]
    },
    {
      "cell_type": "markdown",
      "metadata": {
        "id": "HmYRIq8dW9IR"
      },
      "source": [
        "# Train the model! You may need to wait a few minutes before running the next cell to allow for the file to process on OpenAI's servers."
      ]
    },
    {
      "cell_type": "code",
      "execution_count": null,
      "metadata": {
        "id": "rdEyXmkoW80I"
      },
      "outputs": [],
      "source": [
        "job = openai.FineTuningJob.create(training_file=file_id, model=\"gpt-3.5-turbo\")\n",
        "\n",
        "job_id = job.id"
      ]
    },
    {
      "cell_type": "markdown",
      "metadata": {
        "id": "XUSX5QzmZMTd"
      },
      "source": [
        "# Now, just wait until the fine-tuning run is done, and you'll have a ready-to-use model!\n",
        "\n",
        "Run this cell every 20 minutes or so -- eventually, you'll see a message \"New fine-tuned model created: ft:gpt-3.5-turbo-0613:xxxxxxxxxxxx\"\n",
        "\n",
        "Once you see that message, you can go to the OpenAI Playground (or keep going to the next cells and use the API) to try the model!"
      ]
    },
    {
      "cell_type": "code",
      "execution_count": null,
      "metadata": {
        "id": "45DJZ7hHaBx0"
      },
      "outputs": [],
      "source": [
        "openai.FineTuningJob.list_events(id=job_id, limit=10)"
      ]
    },
    {
      "cell_type": "markdown",
      "metadata": {
        "id": "91ihW2O27Phl"
      },
      "source": [
        "# Once your model is trained, run the next cell to grab the fine-tuned model name."
      ]
    },
    {
      "cell_type": "code",
      "execution_count": null,
      "metadata": {
        "id": "eWBRBPh8aEzH"
      },
      "outputs": [],
      "source": [
        "model_name_pre_object = openai.FineTuningJob.retrieve(job_id)\n",
        "model_name = model_name_pre_object.fine_tuned_model\n",
        "print(model_name)"
      ]
    },
    {
      "cell_type": "markdown",
      "metadata": {
        "id": "2OmZLoBX7oQM"
      },
      "source": [
        "# Let's try it out!"
      ]
    },
    {
      "cell_type": "code",
      "execution_count": null,
      "metadata": {
        "id": "uxbrmzc5dMuC"
      },
      "outputs": [],
      "source": [
        "response = openai.ChatCompletion.create(\n",
        "    model=model_name,\n",
        "    messages=[\n",
        "      {\n",
        "        \"role\": \"system\",\n",
        "        \"content\": system_message,\n",
        "      },\n",
        "      {\n",
        "          \"role\": \"user\",\n",
        "          \"content\": df['prompt'].sample().values[0],\n",
        "      }\n",
        "    ],\n",
        ")\n",
        "\n",
        "response.choices[0].message['content']"
      ]
    }
  ],
  "metadata": {
    "colab": {
      "provenance": []
    },
    "kernelspec": {
      "display_name": "Python 3",
      "name": "python3"
    },
    "language_info": {
      "codemirror_mode": {
        "name": "ipython",
        "version": 3
      },
      "file_extension": ".py",
      "mimetype": "text/x-python",
      "name": "python",
      "nbconvert_exporter": "python",
      "pygments_lexer": "ipython3",
      "version": "3.9.6"
    }
  },
  "nbformat": 4,
  "nbformat_minor": 0
}
